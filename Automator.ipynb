{
 "cells": [
  {
   "cell_type": "code",
   "execution_count": 30,
   "metadata": {},
   "outputs": [],
   "source": [
    "#Import Libraries\n",
    "from ciao_contrib.runtool import *\n",
    "from ciao_contrib.runtool import dmstat, dmextract\n",
    "import subprocess\n",
    "import re\n",
    "import pandas as pd\n",
    "from matplotlib import pyplot as plt\n",
    "from astropy.io import fits"
   ]
  },
  {
   "cell_type": "code",
   "execution_count": 31,
   "metadata": {},
   "outputs": [],
   "source": [
    "#Define the major path to working directory\n",
    "binning = int(input(\"Enter the bin size: \"))\n",
    "obsid = input(\"Enter the Observation ID: \")\n",
    "path = f\"/Volumes/Storage/Chandra/M33_file/{obsid}\""
   ]
  },
  {
   "cell_type": "code",
   "execution_count": 32,
   "metadata": {},
   "outputs": [],
   "source": [
    "#Finds the name of the FITS file, and then defines more directories\n",
    "pattern = r\"^acis.*\\.fits$\"\n",
    "pattern2 = r\"^hrc.*\\.fits$\"\n",
    "\n",
    "for file in os.listdir(path):\n",
    "    if re.match(pattern, file) or re.match(pattern2, file):\n",
    "        final = file\n",
    "\n",
    "final_path = f'/Volumes/Storage/Chandra/M33_file/{obsid}/{final}'\n",
    "region_path = f'{path}/src.reg'\n",
    "bkg_path = f'{path}/bkg.reg'\n"
   ]
  },
  {
   "cell_type": "code",
   "execution_count": 33,
   "metadata": {},
   "outputs": [
    {
     "name": "stderr",
     "output_type": "stream",
     "text": [
      "plist: no paramfiles to unlearn\n"
     ]
    }
   ],
   "source": [
    "#Converts DMSTAT info for src.reg into a Pandas DataFrame\n",
    "subprocess.run(['punlearn', 'dmstat'], shell=True, executable='/bin/bash')\n",
    "cmd = f'dmstat \"{final_path}[sky=region({region_path})][cols ccd_id]\"'\n",
    "dmstat_result = subprocess.run(cmd, shell=True, executable='/bin/bash', capture_output=True, text=True)\n",
    "output = dmstat_result.stdout\n",
    "\n",
    "stats = {}\n",
    "for line in output.split('\\n'):\n",
    "    if \"min:\" in line:\n",
    "        stats['min'] = float(line.split()[1])\n",
    "    elif \"max:\" in line:\n",
    "        stats['max'] = float(line.split()[1])\n",
    "    elif \"mean:\" in line:\n",
    "        stats['mean'] = float(line.split()[1])\n",
    "    elif \"sigma:\" in line:\n",
    "        stats['sigma'] = float(line.split()[1])\n",
    "    elif \"sum:\" in line:\n",
    "        stats['sum'] = float(line.split()[1])\n",
    "    elif \"good:\" in line:\n",
    "        stats['good'] = int(line.split()[1])\n",
    "    elif \"null:\" in line:\n",
    "        stats['null'] = int(line.split()[1])\n",
    "\n",
    "df = pd.DataFrame([stats])"
   ]
  },
  {
   "cell_type": "code",
   "execution_count": 34,
   "metadata": {},
   "outputs": [
    {
     "name": "stderr",
     "output_type": "stream",
     "text": [
      "plist: no paramfiles to unlearn\n"
     ]
    }
   ],
   "source": [
    "#Converts DMSTAT info for bkg.reg into a Pandas DataFrame\n",
    "subprocess.run(['punlearn', 'dmstat'], shell=True, executable='/bin/bash')\n",
    "cmd = f'dmstat \"{final_path}[sky=region({bkg_path})][cols ccd_id]\"'\n",
    "dmstat_result = subprocess.run(cmd, shell=True, executable='/bin/bash', capture_output=True, text=True)\n",
    "output = dmstat_result.stdout\n",
    "\n",
    "stats = {}\n",
    "for line in output.split('\\n'):\n",
    "    if \"min:\" in line:\n",
    "        stats['min'] = float(line.split()[1])\n",
    "    elif \"max:\" in line:\n",
    "        stats['max'] = float(line.split()[1])\n",
    "    elif \"mean:\" in line:\n",
    "        stats['mean'] = float(line.split()[1])\n",
    "    elif \"sigma:\" in line:\n",
    "        stats['sigma'] = float(line.split()[1])\n",
    "    elif \"sum:\" in line:\n",
    "        stats['sum'] = float(line.split()[1])\n",
    "    elif \"good:\" in line:\n",
    "        stats['good'] = int(line.split()[1])\n",
    "    elif \"null:\" in line:\n",
    "        stats['null'] = int(line.split()[1])\n",
    "\n",
    "df1 = pd.DataFrame([stats])"
   ]
  },
  {
   "cell_type": "code",
   "execution_count": 35,
   "metadata": {},
   "outputs": [],
   "source": [
    "#Stores the ccd_ids for the source and the backgrounds\n",
    "src_ccdid = int(df[\"min\"][0])\n",
    "bkg_ccdid = int(df1['min'][0])"
   ]
  },
  {
   "cell_type": "code",
   "execution_count": 36,
   "metadata": {},
   "outputs": [],
   "source": [
    "#Uses DMEXTRACT to creat a background subtracted light curve, stored as sub_lc.fits\n",
    "dmextract.punlearn()\n",
    "dmextract(infile=f\"{final_path}[ccd_id={src_ccdid}, sky=region({region_path})][bin time=::{binning}]\", opt = \"ltc1\", bkg=f\"{final_path}[ccd_id={bkg_ccdid}, sky=region({bkg_path})]\", outfile=f\"{path}/sub_lc.fits\")"
   ]
  },
  {
   "cell_type": "code",
   "execution_count": 37,
   "metadata": {},
   "outputs": [],
   "source": [
    "#Figures out galaxy name from path, and converts sub_lc.fits into sub_lc.fits.txt for plotting\n",
    "pattern = r'[^/]+(?=_file)'\n",
    "match = re.search(pattern, path)\n",
    "file = f\"{path}/sub_lc.fits\"\n",
    "\n",
    "galaxy = match.group(0)\n",
    "\n",
    "hdulist = fits.open(file)\n",
    "cols = [\"TIME_BIN\", \"TIME_MIN\", \"TIME\", \"TIME_MAX\", \"COUNTS\", \"STAT_ERR\", \"AREA\", \"EXPOSURE\", \"COUNT_RATE\", \"COUNT_RATE_ERR\", \"BG_AREA\", \"BG_ERR\", \"BG_RATE\", \"NORM_BG_COUNTS\", \"NORM_BG_ERR\", \"NET_COUNTS\", \"NET_ERR\", \"NET_RATE\", \"ERR_RATE\"]\n",
    "\n",
    "dataframe = pd.DataFrame(hdulist[1].data)\n",
    "dataframe = dataframe[cols]\n",
    "\n",
    "hdulist.close()\n",
    "dataframe.to_csv(f\"{path}/sub_lc.fits.txt\", index = None, sep = \",\")"
   ]
  },
  {
   "cell_type": "code",
   "execution_count": 38,
   "metadata": {},
   "outputs": [
    {
     "data": {
      "image/png": "[encoded data removed]",
      "text/plain": [
       "<Figure size 1500x900 with 1 Axes>"
      ]
     },
     "metadata": {},
     "output_type": "display_data"
    }
   ],
   "source": [
    "#Plots the background subtracted light curve\n",
    "df3 = pd.read_csv(f\"{file}.txt\")\n",
    "plt.figure(figsize=(15, 9))\n",
    "plt.step(df3[\"TIME_BIN\"], df3[\"NET_COUNTS\"])\n",
    "plt.xlabel(f\"Time (In bins of {binning}.0s)\")\n",
    "plt.ylabel(\"Photon Counts\")\n",
    "plt.title(f\"Lightcurve of object in {galaxy} with Obs. ID {obsid}\")\n",
    "plt.show()"
   ]
  }
 ],
 "metadata": {
  "kernelspec": {
   "display_name": "Python 3",
   "language": "python",
   "name": "python3"
  },
  "language_info": {
   "codemirror_mode": {
    "name": "ipython",
    "version": 3
   },
   "file_extension": ".py",
   "mimetype": "text/x-python",
   "name": "python",
   "nbconvert_exporter": "python",
   "pygments_lexer": "ipython3",
   "version": "3.11.9"
  }
 },
 "nbformat": 4,
 "nbformat_minor": 2
}
